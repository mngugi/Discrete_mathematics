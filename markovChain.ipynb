{
 "cells": [
  {
   "cell_type": "code",
   "execution_count": 1,
   "id": "940c5ade-565a-4d9a-86e1-a7c0ab0ea2ae",
   "metadata": {},
   "outputs": [
    {
     "name": "stdout",
     "output_type": "stream",
     "text": [
      "Weather Forecast: ['Sunny', 'Sunny', 'Sunny', 'Sunny', 'Sunny', 'Sunny', 'Sunny', 'Sunny', 'Sunny', 'Sunny', 'Sunny']\n"
     ]
    }
   ],
   "source": [
    "import numpy as np\n",
    "import random\n",
    "\n",
    "# States\n",
    "states = [\"Sunny\", \"Rainy\"]\n",
    "\n",
    "# Transition matrix\n",
    "# Rows: current state, Columns: next state\n",
    "transition_matrix = [\n",
    "    [0.9, 0.1],  # Sunny -> Sunny (0.9), Sunny -> Rainy (0.1)\n",
    "    [0.5, 0.5]   # Rainy -> Sunny (0.5), Rainy -> Rainy (0.5)\n",
    "]\n",
    "\n",
    "# Simulation function\n",
    "def markov_chain(start_state, days):\n",
    "    current_state = start_state\n",
    "    history = [current_state]\n",
    "\n",
    "    for _ in range(days):\n",
    "        # Pick next state based on probabilities\n",
    "        if current_state == \"Sunny\":\n",
    "            current_state = random.choices(states, transition_matrix[0])[0]\n",
    "        else:\n",
    "            current_state = random.choices(states, transition_matrix[1])[0]\n",
    "        history.append(current_state)\n",
    "    \n",
    "    return history\n",
    "\n",
    "# Run simulation for 10 days, starting with Sunny\n",
    "forecast = markov_chain(\"Sunny\", 10)\n",
    "print(\"Weather Forecast:\", forecast)\n"
   ]
  },
  {
   "cell_type": "code",
   "execution_count": null,
   "id": "6023d704-91f7-4842-b435-8a8e0feac71c",
   "metadata": {},
   "outputs": [],
   "source": []
  }
 ],
 "metadata": {
  "kernelspec": {
   "display_name": "Python 3 (ipykernel)",
   "language": "python",
   "name": "python3"
  },
  "language_info": {
   "codemirror_mode": {
    "name": "ipython",
    "version": 3
   },
   "file_extension": ".py",
   "mimetype": "text/x-python",
   "name": "python",
   "nbconvert_exporter": "python",
   "pygments_lexer": "ipython3",
   "version": "3.13.7"
  }
 },
 "nbformat": 4,
 "nbformat_minor": 5
}
