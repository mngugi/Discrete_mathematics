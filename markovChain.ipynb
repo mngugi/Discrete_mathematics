{
 "cells": [
  {
   "cell_type": "code",
   "execution_count": 1,
   "id": "940c5ade-565a-4d9a-86e1-a7c0ab0ea2ae",
   "metadata": {},
   "outputs": [
    {
     "name": "stdout",
     "output_type": "stream",
     "text": [
      "Weather Forecast: ['Sunny', 'Sunny', 'Sunny', 'Sunny', 'Sunny', 'Sunny', 'Sunny', 'Sunny', 'Sunny', 'Sunny', 'Sunny']\n"
     ]
    }
   ],
   "source": [
    "import numpy as np\n",
    "import random\n",
    "\n",
    "# States\n",
    "states = [\"Sunny\", \"Rainy\"]\n",
    "\n",
    "# Transition matrix\n",
    "# Rows: current state, Columns: next state\n",
    "transition_matrix = [\n",
    "    [0.9, 0.1],  # Sunny -> Sunny (0.9), Sunny -> Rainy (0.1)\n",
    "    [0.5, 0.5]   # Rainy -> Sunny (0.5), Rainy -> Rainy (0.5)\n",
    "]\n",
    "\n",
    "# Simulation function\n",
    "def markov_chain(start_state, days):\n",
    "    current_state = start_state\n",
    "    history = [current_state]\n",
    "\n",
    "    for _ in range(days):\n",
    "        # Pick next state based on probabilities\n",
    "        if current_state == \"Sunny\":\n",
    "            current_state = random.choices(states, transition_matrix[0])[0]\n",
    "        else:\n",
    "            current_state = random.choices(states, transition_matrix[1])[0]\n",
    "        history.append(current_state)\n",
    "    \n",
    "    return history\n",
    "\n",
    "# Run simulation for 10 days, starting with Sunny\n",
    "forecast = markov_chain(\"Sunny\", 10)\n",
    "print(\"Weather Forecast:\", forecast)\n"
   ]
  },
  {
   "cell_type": "code",
   "execution_count": 2,
   "id": "13d1614a-6548-498e-9caf-72a8163f5ae1",
   "metadata": {},
   "outputs": [
    {
     "name": "stdout",
     "output_type": "stream",
     "text": [
      "[0.83333333 0.16666667]\n"
     ]
    }
   ],
   "source": [
    "import numpy as np\n",
    "\n",
    "P = np.array([[0.9, 0.1],\n",
    "              [0.5, 0.5]])\n",
    "\n",
    "pi = np.array([1.0, 0.0])  # start at Sunny with prob 1\n",
    "for _ in range(100):\n",
    "    pi = pi @ P\n",
    "pi = pi / pi.sum()  # normalize (numerical safety)\n",
    "print(pi)  # ~ [0.83333333 0.16666667]\n"
   ]
  },
  {
   "cell_type": "code",
   "execution_count": 3,
   "id": "865bfaff-10b1-400e-beb5-7d623464eda2",
   "metadata": {},
   "outputs": [
    {
     "name": "stdout",
     "output_type": "stream",
     "text": [
      "[0.83333333 0.16666667]\n"
     ]
    }
   ],
   "source": [
    "import numpy as np\n",
    "\n",
    "P = np.array([[0.9, 0.1],\n",
    "              [0.5, 0.5]])\n",
    "\n",
    "A = (P.T - np.eye(2))\n",
    "A = np.vstack([A, np.ones(2)])      # add sum-to-1 constraint\n",
    "b = np.array([0, 0, 1])\n",
    "pi, *_ = np.linalg.lstsq(A, b, rcond=None)\n",
    "print(pi)  # ~ [0.83333333 0.16666667]\n"
   ]
  },
  {
   "cell_type": "code",
   "execution_count": null,
   "id": "d2bfabe5-8bd6-4227-8a1c-2aff35f93898",
   "metadata": {},
   "outputs": [],
   "source": []
  }
 ],
 "metadata": {
  "kernelspec": {
   "display_name": "Python 3 (ipykernel)",
   "language": "python",
   "name": "python3"
  },
  "language_info": {
   "codemirror_mode": {
    "name": "ipython",
    "version": 3
   },
   "file_extension": ".py",
   "mimetype": "text/x-python",
   "name": "python",
   "nbconvert_exporter": "python",
   "pygments_lexer": "ipython3",
   "version": "3.13.7"
  }
 },
 "nbformat": 4,
 "nbformat_minor": 5
}
